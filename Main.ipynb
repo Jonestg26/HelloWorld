{
  "nbformat": 4,
  "nbformat_minor": 0,
  "metadata": {
    "colab": {
      "provenance": [],
      "toc_visible": true,
      "authorship_tag": "ABX9TyNJI1qZMwts2iCZIxcliGzD"
    },
    "kernelspec": {
      "name": "ir",
      "display_name": "R"
    },
    "language_info": {
      "name": "R"
    }
  },
  "cells": [
    {
      "cell_type": "code",
      "execution_count": null,
      "metadata": {
        "id": "QoZC3z16XnfN"
      },
      "outputs": [],
      "source": [
        "#include <iostream>\n",
        "\n",
        "  int main() {\n",
        "\n",
        "    int myInt = 0;\n",
        "    char myChar = 'a';\n",
        "\n",
        "    std::cout << \"size of int: \" << sizeof(myInt) << std::endl;\n",
        "    std::cout << \"size of char: \" << sizeof(myChar) << std::endl;\n",
        "\n",
        "    int foo[SIZE] = {1, 2, 3, 4, 5};\n",
        "    printIntArray(foo, SIZE);\n",
        "\n",
        "    foo[1] = 3;\n",
        "    printIntArray(foo, SIZE);\n",
        "\n",
        "    char bar[SIZE] = {'a', 'b', 'c', 'd', 'e'};\n",
        "    printCharArray(bar, SIZE);\n",
        "\n",
        "    bar[1] = 'c';\n",
        "    printCharArray(bar, SIZE);\n",
        "\n",
        "    int* pFoo\n",
        "    pFoo = foo;\n",
        "    printIntArray(pFoo, SIZE);\n",
        "\n",
        "\n",
        "  return 0;\n",
        "\n",
        "  }"
      ]
    }
  ]
}